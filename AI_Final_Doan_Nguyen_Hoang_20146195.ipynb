{
  "cells": [
    {
      "cell_type": "markdown",
      "metadata": {
        "id": "view-in-github",
        "colab_type": "text"
      },
      "source": [
        "<a href=\"https://colab.research.google.com/github/NguyenHoang127/AI_Exercise_All/blob/main/AI_Final_Doan_Nguyen_Hoang_20146195.ipynb\" target=\"_parent\"><img src=\"https://colab.research.google.com/assets/colab-badge.svg\" alt=\"Open In Colab\"/></a>"
      ]
    },
    {
      "cell_type": "code",
      "execution_count": null,
      "metadata": {
        "colab": {
          "base_uri": "https://localhost:8080/"
        },
        "id": "ruHDkEidnto2",
        "outputId": "c8b9252a-a764-4e7c-ff4f-3a34338fb232"
      },
      "outputs": [
        {
          "output_type": "stream",
          "name": "stdout",
          "text": [
            "Mounted at /content/drive\n"
          ]
        }
      ],
      "source": [
        "from google.colab import drive\n",
        "drive.mount('/content/drive')"
      ]
    },
    {
      "cell_type": "code",
      "execution_count": null,
      "metadata": {
        "id": "fwoNXAsakBCT"
      },
      "outputs": [],
      "source": [
        "#Khai báo thư viện\n",
        "\n",
        "#1.Thư viện tính toán và hiển thị \n",
        "import matplotlib.pyplot as plt\n",
        "import numpy as np\n",
        "\n",
        "#2.Thư viện xử lý hình 3 chiều thành dữ liệu dưới dạng số\n",
        "from os import listdir\n",
        "from numpy import asarray, save\n",
        "from keras.utils import load_img\n",
        "from keras.utils import img_to_array\n",
        "from keras.utils import to_categorical\n",
        "from skimage.transform import resize"
      ]
    },
    {
      "cell_type": "code",
      "execution_count": null,
      "metadata": {
        "colab": {
          "base_uri": "https://localhost:8080/"
        },
        "id": "ZMNl0t1B4aN8",
        "outputId": "7859fe5b-2043-46ee-8252-3974132dfe9e"
      },
      "outputs": [
        {
          "output_type": "stream",
          "name": "stdout",
          "text": [
            "(36132, 28, 28, 1) (36132,)\n"
          ]
        }
      ],
      "source": [
        "folder = '/content/drive/MyDrive/DATA_AI_FINAL'\n",
        "photos, labels = list(), list()\n",
        "for file in listdir(folder):\n",
        "  if file.startswith('N0 '):  #Chữ số\n",
        "    output= 0.0\n",
        "  if file.startswith('N1 '):\n",
        "    output= 1.0\n",
        "  if file.startswith('N2 '):\n",
        "    output= 2.0\n",
        "  if file.startswith('N3 '):\n",
        "    output= 3.0\n",
        "  if file.startswith('N4 '):\n",
        "    output= 4.0\n",
        "  if file.startswith('N5 '):\n",
        "    output= 5.0\n",
        "  if file.startswith('N6 '):\n",
        "    output= 6.0\n",
        "  if file.startswith('N7 '):\n",
        "    output= 7.0\n",
        "  if file.startswith('N8 '):\n",
        "    output= 8.0\n",
        "  if file.startswith('N9 '):\n",
        "    output= 9.0\n",
        "  if file.startswith('A '):\n",
        "    output= 10.0\n",
        "  if file.startswith('B '):\n",
        "    output= 11.0\n",
        "  if file.startswith('C '):\n",
        "    output= 12.0\n",
        "  if file.startswith('D '):\n",
        "    output= 13.0\n",
        "  if file.startswith('E '):\n",
        "    output= 14.0\n",
        "  if file.startswith('F '):\n",
        "    output= 15.0\n",
        "  if file.startswith('G '):\n",
        "    output= 16.0\n",
        "  if file.startswith('H '):\n",
        "    output= 17.0\n",
        "  if file.startswith('I '):\n",
        "    output= 18.0\n",
        "  if file.startswith('J '):\n",
        "    output= 19.0\n",
        "  if file.startswith('K '):\n",
        "    output= 20.0\n",
        "  if file.startswith('L '):\n",
        "    output= 21.0\n",
        "  if file.startswith('M '):\n",
        "    output= 22.0\n",
        "  if file.startswith('NN '):\n",
        "    output= 23.0\n",
        "  if file.startswith('O '):\n",
        "    output= 24.0\n",
        "  if file.startswith('P '):\n",
        "    output= 25.0\n",
        "  if file.startswith('Q '):\n",
        "    output= 26.0\n",
        "  if file.startswith('R '):\n",
        "    output= 27.0\n",
        "  if file.startswith('S '):\n",
        "    output= 28.0\n",
        "  if file.startswith('T '):\n",
        "    output= 29.0\n",
        "  if file.startswith('U '):\n",
        "    output= 30.0\n",
        "  if file.startswith('V '):\n",
        "    output= 31.0\n",
        "  if file.startswith('W '):\n",
        "    output= 32.0\n",
        "  if file.startswith('X '):\n",
        "    output= 33.0\n",
        "  if file.startswith('Y '):\n",
        "    output= 34.0\n",
        "  if file.startswith('Z '):\n",
        "    output= 35.0\n",
        "\n",
        "\n",
        "  photo = load_img(folder + '/' + file, target_size= (28,28))\n",
        "  photo= img_to_array(photo)\n",
        "  photo = resize(photo, (28, 28, 1))\n",
        "\n",
        "  photos.append(photo)\n",
        "  labels.append(output)\n",
        "\n",
        "photos= asarray(photos)\n",
        "labels= asarray(labels)\n",
        "print(photos.shape, labels.shape)\n",
        "\n",
        "save('/content/drive/MyDrive/Result_AI/character_photos2.npy', photos)\n",
        "save('/content/drive/MyDrive/Result_AI/character_labels2.npy', labels)"
      ]
    },
    {
      "cell_type": "code",
      "execution_count": null,
      "metadata": {
        "colab": {
          "base_uri": "https://localhost:8080/"
        },
        "id": "htwwZSaS6VHS",
        "outputId": "6ee08f6f-3efc-4f5c-c878-bd48dc816d5c"
      },
      "outputs": [
        {
          "output_type": "stream",
          "name": "stdout",
          "text": [
            "(36132, 28, 28, 1) (36132, 36)\n"
          ]
        }
      ],
      "source": [
        "# Khởi tạo và sử dụng dữ liệu đã tạo\n",
        "photos = np.load('/content/drive/MyDrive/Result_AI/character_photos2.npy')\n",
        "labels = np.load('/content/drive/MyDrive/Result_AI/character_labels2.npy')\n",
        "\n",
        "# Preprocess data\n",
        "photos = photos.astype('float32') / 255.0\n",
        "labels = to_categorical(labels)\n",
        "\n",
        "print(photos.shape, labels.shape)\n",
        "# Chia ra thành 2 phần để test và train\n",
        "\n",
        "test_x, test_y = photos[:150], labels[:150]\n",
        "train_x, train_y = photos[150:], labels[150:]"
      ]
    },
    {
      "cell_type": "code",
      "execution_count": null,
      "metadata": {
        "id": "iiLOIz916Z1V"
      },
      "outputs": [],
      "source": [
        "from keras.models import Sequential,Model\n",
        "from keras.layers import Dense,Dropout,Flatten,Conv2D,MaxPooling2D,Normalization\n",
        "from keras.layers.activation import LeakyReLU\n",
        "from keras.optimizers import Adam\n",
        "from keras import losses\n",
        "from keras.losses import categorical_crossentropy"
      ]
    },
    {
      "cell_type": "code",
      "execution_count": null,
      "metadata": {
        "colab": {
          "base_uri": "https://localhost:8080/"
        },
        "id": "N-hccDrA6clX",
        "outputId": "4ad3fd3e-e01e-44c3-9f1f-6fe577b267b9"
      },
      "outputs": [
        {
          "output_type": "stream",
          "name": "stdout",
          "text": [
            "Model: \"sequential_5\"\n",
            "_________________________________________________________________\n",
            " Layer (type)                Output Shape              Param #   \n",
            "=================================================================\n",
            " conv2d_5 (Conv2D)           (None, 28, 28, 32)        832       \n",
            "                                                                 \n",
            " max_pooling2d_1 (MaxPooling  (None, 14, 14, 32)       0         \n",
            " 2D)                                                             \n",
            "                                                                 \n",
            " conv2d_6 (Conv2D)           (None, 10, 10, 64)        51264     \n",
            "                                                                 \n",
            " max_pooling2d_2 (MaxPooling  (None, 5, 5, 64)         0         \n",
            " 2D)                                                             \n",
            "                                                                 \n",
            " flatten_1 (Flatten)         (None, 1600)              0         \n",
            "                                                                 \n",
            " dense_2 (Dense)             (None, 256)               409856    \n",
            "                                                                 \n",
            " dense_3 (Dense)             (None, 84)                21588     \n",
            "                                                                 \n",
            " dense_4 (Dense)             (None, 36)                3060      \n",
            "                                                                 \n",
            "=================================================================\n",
            "Total params: 486,600\n",
            "Trainable params: 486,600\n",
            "Non-trainable params: 0\n",
            "_________________________________________________________________\n"
          ]
        }
      ],
      "source": [
        "model = Sequential()\n",
        "\n",
        "\n",
        "model = Sequential()\n",
        "\n",
        "model.add(Conv2D(32, kernel_size= (5,5), activation= 'relu', input_shape= (28,28, 1), padding= 'same'))\n",
        "model.add(MaxPooling2D((2,2), padding= 'same'))\n",
        "\n",
        "model.add(Conv2D(64, kernel_size= (5,5), activation= 'relu', padding= 'valid'))\n",
        "model.add(MaxPooling2D((2,2), padding= 'same'))\n",
        "\n",
        "model.add(Flatten())\n",
        "model.add(Dense(256, activation= 'relu'))\n",
        "model.add(Dense(84, activation= 'relu'))\n",
        "model.add(Dense(36, activation= 'softmax'))\n",
        "model.summary()\n"
      ]
    },
    {
      "cell_type": "code",
      "execution_count": null,
      "metadata": {
        "colab": {
          "base_uri": "https://localhost:8080/"
        },
        "id": "VbNRCszl6m3B",
        "outputId": "5b0108cc-3a3c-4faa-a83f-a2bc8a3a16ed"
      },
      "outputs": [
        {
          "output_type": "stream",
          "name": "stdout",
          "text": [
            "Epoch 1/70\n",
            "1125/1125 [==============================] - 19s 14ms/step - loss: 2.1108 - accuracy: 0.4001 - val_loss: 1.3416 - val_accuracy: 0.6333\n",
            "Epoch 2/70\n",
            "1125/1125 [==============================] - 15s 14ms/step - loss: 1.3354 - accuracy: 0.6214 - val_loss: 0.9587 - val_accuracy: 0.7667\n",
            "Epoch 3/70\n",
            "1125/1125 [==============================] - 17s 16ms/step - loss: 1.1592 - accuracy: 0.6705 - val_loss: 1.2127 - val_accuracy: 0.6733\n",
            "Epoch 4/70\n",
            "1125/1125 [==============================] - 16s 14ms/step - loss: 1.0605 - accuracy: 0.7019 - val_loss: 0.7858 - val_accuracy: 0.8333\n",
            "Epoch 5/70\n",
            "1125/1125 [==============================] - 15s 14ms/step - loss: 1.0012 - accuracy: 0.7193 - val_loss: 0.8426 - val_accuracy: 0.8200\n",
            "Epoch 6/70\n",
            "1125/1125 [==============================] - 15s 14ms/step - loss: 0.9605 - accuracy: 0.7281 - val_loss: 0.7347 - val_accuracy: 0.8133\n",
            "Epoch 7/70\n",
            "1125/1125 [==============================] - 16s 14ms/step - loss: 0.9166 - accuracy: 0.7405 - val_loss: 1.0130 - val_accuracy: 0.7667\n",
            "Epoch 8/70\n",
            "1125/1125 [==============================] - 16s 14ms/step - loss: 0.8856 - accuracy: 0.7500 - val_loss: 0.8500 - val_accuracy: 0.8400\n",
            "Epoch 9/70\n",
            "1125/1125 [==============================] - 16s 14ms/step - loss: 0.8435 - accuracy: 0.7624 - val_loss: 0.8367 - val_accuracy: 0.8133\n",
            "Epoch 10/70\n",
            "1125/1125 [==============================] - 16s 14ms/step - loss: 0.8208 - accuracy: 0.7681 - val_loss: 0.9348 - val_accuracy: 0.7867\n",
            "Epoch 11/70\n",
            "1125/1125 [==============================] - 16s 14ms/step - loss: 0.7954 - accuracy: 0.7747 - val_loss: 0.7559 - val_accuracy: 0.8200\n",
            "Epoch 12/70\n",
            "1125/1125 [==============================] - 15s 14ms/step - loss: 0.7741 - accuracy: 0.7808 - val_loss: 0.8615 - val_accuracy: 0.8000\n",
            "Epoch 13/70\n",
            "1125/1125 [==============================] - 15s 14ms/step - loss: 0.7672 - accuracy: 0.7824 - val_loss: 1.0135 - val_accuracy: 0.7400\n",
            "Epoch 14/70\n",
            "1125/1125 [==============================] - 16s 14ms/step - loss: 0.7488 - accuracy: 0.7868 - val_loss: 0.7821 - val_accuracy: 0.8200\n",
            "Epoch 15/70\n",
            "1125/1125 [==============================] - 15s 14ms/step - loss: 0.7358 - accuracy: 0.7892 - val_loss: 1.0401 - val_accuracy: 0.7067\n",
            "Epoch 16/70\n",
            "1125/1125 [==============================] - 16s 14ms/step - loss: 0.7195 - accuracy: 0.7938 - val_loss: 0.9493 - val_accuracy: 0.7400\n",
            "Epoch 17/70\n",
            "1125/1125 [==============================] - 16s 14ms/step - loss: 0.7151 - accuracy: 0.7949 - val_loss: 0.6144 - val_accuracy: 0.8400\n",
            "Epoch 18/70\n",
            "1125/1125 [==============================] - 15s 14ms/step - loss: 0.7123 - accuracy: 0.7960 - val_loss: 0.8916 - val_accuracy: 0.7600\n",
            "Epoch 19/70\n",
            "1125/1125 [==============================] - 15s 14ms/step - loss: 0.6992 - accuracy: 0.8008 - val_loss: 0.8497 - val_accuracy: 0.7867\n",
            "Epoch 20/70\n",
            "1125/1125 [==============================] - 16s 14ms/step - loss: 0.6933 - accuracy: 0.8017 - val_loss: 0.7290 - val_accuracy: 0.8000\n",
            "Epoch 21/70\n",
            "1125/1125 [==============================] - 15s 14ms/step - loss: 0.6956 - accuracy: 0.8017 - val_loss: 0.7969 - val_accuracy: 0.8000\n",
            "Epoch 22/70\n",
            "1125/1125 [==============================] - 15s 14ms/step - loss: 0.6775 - accuracy: 0.8042 - val_loss: 0.8063 - val_accuracy: 0.7867\n",
            "Epoch 23/70\n",
            "1125/1125 [==============================] - 15s 14ms/step - loss: 0.6782 - accuracy: 0.8046 - val_loss: 0.5760 - val_accuracy: 0.8400\n",
            "Epoch 24/70\n",
            "1125/1125 [==============================] - 15s 13ms/step - loss: 0.6696 - accuracy: 0.8074 - val_loss: 0.8179 - val_accuracy: 0.7933\n",
            "Epoch 25/70\n",
            "1125/1125 [==============================] - 15s 14ms/step - loss: 0.6683 - accuracy: 0.8082 - val_loss: 0.7674 - val_accuracy: 0.8400\n",
            "Epoch 26/70\n",
            "1125/1125 [==============================] - 16s 14ms/step - loss: 0.6656 - accuracy: 0.8084 - val_loss: 0.7677 - val_accuracy: 0.8067\n",
            "Epoch 27/70\n",
            "1125/1125 [==============================] - 16s 14ms/step - loss: 0.6577 - accuracy: 0.8090 - val_loss: 0.7658 - val_accuracy: 0.8467\n",
            "Epoch 28/70\n",
            "1125/1125 [==============================] - 15s 13ms/step - loss: 0.6529 - accuracy: 0.8138 - val_loss: 0.8032 - val_accuracy: 0.7733\n",
            "Epoch 29/70\n",
            "1125/1125 [==============================] - 15s 13ms/step - loss: 0.6568 - accuracy: 0.8120 - val_loss: 0.9093 - val_accuracy: 0.7800\n",
            "Epoch 30/70\n",
            "1125/1125 [==============================] - 15s 14ms/step - loss: 0.6472 - accuracy: 0.8138 - val_loss: 0.7868 - val_accuracy: 0.8200\n",
            "Epoch 31/70\n",
            "1125/1125 [==============================] - 16s 14ms/step - loss: 0.6450 - accuracy: 0.8146 - val_loss: 0.7255 - val_accuracy: 0.8200\n",
            "Epoch 32/70\n",
            "1125/1125 [==============================] - 15s 14ms/step - loss: 0.6356 - accuracy: 0.8179 - val_loss: 0.6872 - val_accuracy: 0.8400\n",
            "Epoch 33/70\n",
            "1125/1125 [==============================] - 15s 14ms/step - loss: 0.6354 - accuracy: 0.8176 - val_loss: 0.7025 - val_accuracy: 0.8267\n",
            "Epoch 34/70\n",
            "1125/1125 [==============================] - 15s 14ms/step - loss: 0.6380 - accuracy: 0.8171 - val_loss: 0.8854 - val_accuracy: 0.7933\n",
            "Epoch 35/70\n",
            "1125/1125 [==============================] - 15s 13ms/step - loss: 0.6317 - accuracy: 0.8165 - val_loss: 0.7158 - val_accuracy: 0.8333\n",
            "Epoch 36/70\n",
            "1125/1125 [==============================] - 21s 18ms/step - loss: 0.6312 - accuracy: 0.8203 - val_loss: 0.6753 - val_accuracy: 0.8267\n",
            "Epoch 37/70\n",
            "1125/1125 [==============================] - 16s 14ms/step - loss: 0.6187 - accuracy: 0.8208 - val_loss: 0.7119 - val_accuracy: 0.8200\n",
            "Epoch 38/70\n",
            "1125/1125 [==============================] - 15s 14ms/step - loss: 0.6287 - accuracy: 0.8190 - val_loss: 0.7999 - val_accuracy: 0.8067\n",
            "Epoch 39/70\n",
            "1125/1125 [==============================] - 16s 14ms/step - loss: 0.6253 - accuracy: 0.8191 - val_loss: 0.8817 - val_accuracy: 0.7800\n",
            "Epoch 40/70\n",
            "1125/1125 [==============================] - 16s 14ms/step - loss: 0.6207 - accuracy: 0.8214 - val_loss: 0.7168 - val_accuracy: 0.8333\n",
            "Epoch 41/70\n",
            "1125/1125 [==============================] - 17s 15ms/step - loss: 0.6200 - accuracy: 0.8199 - val_loss: 0.7603 - val_accuracy: 0.8067\n",
            "Epoch 42/70\n",
            "1125/1125 [==============================] - 16s 14ms/step - loss: 0.6132 - accuracy: 0.8224 - val_loss: 0.7694 - val_accuracy: 0.8067\n",
            "Epoch 43/70\n",
            "1125/1125 [==============================] - 15s 14ms/step - loss: 0.6092 - accuracy: 0.8242 - val_loss: 0.7488 - val_accuracy: 0.7933\n",
            "Epoch 44/70\n",
            "1125/1125 [==============================] - 16s 14ms/step - loss: 0.6100 - accuracy: 0.8271 - val_loss: 0.7795 - val_accuracy: 0.8200\n",
            "Epoch 45/70\n",
            "1125/1125 [==============================] - 17s 15ms/step - loss: 0.6137 - accuracy: 0.8217 - val_loss: 0.7495 - val_accuracy: 0.8133\n",
            "Epoch 46/70\n",
            "1125/1125 [==============================] - 15s 14ms/step - loss: 0.6061 - accuracy: 0.8248 - val_loss: 0.6975 - val_accuracy: 0.8333\n",
            "Epoch 47/70\n",
            "1125/1125 [==============================] - 15s 13ms/step - loss: 0.6076 - accuracy: 0.8246 - val_loss: 0.7273 - val_accuracy: 0.8200\n",
            "Epoch 48/70\n",
            "1125/1125 [==============================] - 16s 14ms/step - loss: 0.6026 - accuracy: 0.8255 - val_loss: 0.8353 - val_accuracy: 0.8133\n",
            "Epoch 49/70\n",
            "1125/1125 [==============================] - 16s 14ms/step - loss: 0.5979 - accuracy: 0.8260 - val_loss: 0.7533 - val_accuracy: 0.7733\n",
            "Epoch 50/70\n",
            "1125/1125 [==============================] - 17s 15ms/step - loss: 0.6078 - accuracy: 0.8235 - val_loss: 0.6967 - val_accuracy: 0.8200\n",
            "Epoch 51/70\n",
            "1125/1125 [==============================] - 15s 13ms/step - loss: 0.5996 - accuracy: 0.8272 - val_loss: 0.7484 - val_accuracy: 0.7933\n",
            "Epoch 52/70\n",
            "1125/1125 [==============================] - 15s 14ms/step - loss: 0.6043 - accuracy: 0.8248 - val_loss: 0.6468 - val_accuracy: 0.8400\n",
            "Epoch 53/70\n",
            "1125/1125 [==============================] - 15s 13ms/step - loss: 0.5966 - accuracy: 0.8273 - val_loss: 0.7243 - val_accuracy: 0.8200\n",
            "Epoch 54/70\n",
            "1125/1125 [==============================] - 15s 14ms/step - loss: 0.5885 - accuracy: 0.8289 - val_loss: 0.8143 - val_accuracy: 0.7800\n",
            "Epoch 55/70\n",
            "1125/1125 [==============================] - 15s 13ms/step - loss: 0.5915 - accuracy: 0.8291 - val_loss: 0.8227 - val_accuracy: 0.7600\n",
            "Epoch 56/70\n",
            "1125/1125 [==============================] - 15s 14ms/step - loss: 0.5910 - accuracy: 0.8291 - val_loss: 0.7205 - val_accuracy: 0.7933\n",
            "Epoch 57/70\n",
            "1125/1125 [==============================] - 16s 14ms/step - loss: 0.5907 - accuracy: 0.8305 - val_loss: 0.5863 - val_accuracy: 0.8533\n",
            "Epoch 58/70\n",
            "1125/1125 [==============================] - 16s 14ms/step - loss: 0.5925 - accuracy: 0.8280 - val_loss: 0.7282 - val_accuracy: 0.8200\n",
            "Epoch 59/70\n",
            "1125/1125 [==============================] - 15s 14ms/step - loss: 0.5885 - accuracy: 0.8307 - val_loss: 0.8083 - val_accuracy: 0.8000\n",
            "Epoch 60/70\n",
            "1125/1125 [==============================] - 15s 14ms/step - loss: 0.5827 - accuracy: 0.8323 - val_loss: 0.7679 - val_accuracy: 0.7800\n",
            "Epoch 61/70\n",
            "1125/1125 [==============================] - 15s 13ms/step - loss: 0.5823 - accuracy: 0.8304 - val_loss: 0.8292 - val_accuracy: 0.8000\n",
            "Epoch 62/70\n",
            "1125/1125 [==============================] - 15s 13ms/step - loss: 0.5822 - accuracy: 0.8301 - val_loss: 0.5930 - val_accuracy: 0.8600\n",
            "Epoch 63/70\n",
            "1125/1125 [==============================] - 15s 14ms/step - loss: 0.5896 - accuracy: 0.8299 - val_loss: 0.7956 - val_accuracy: 0.7600\n",
            "Epoch 64/70\n",
            "1125/1125 [==============================] - 15s 14ms/step - loss: 0.5812 - accuracy: 0.8320 - val_loss: 0.7751 - val_accuracy: 0.8267\n",
            "Epoch 65/70\n",
            "1125/1125 [==============================] - 16s 14ms/step - loss: 0.5823 - accuracy: 0.8322 - val_loss: 0.7599 - val_accuracy: 0.8133\n",
            "Epoch 66/70\n",
            "1125/1125 [==============================] - 15s 13ms/step - loss: 0.5759 - accuracy: 0.8342 - val_loss: 0.7230 - val_accuracy: 0.7867\n",
            "Epoch 67/70\n",
            "1125/1125 [==============================] - 15s 14ms/step - loss: 0.5804 - accuracy: 0.8329 - val_loss: 0.6884 - val_accuracy: 0.8067\n",
            "Epoch 68/70\n",
            "1125/1125 [==============================] - 16s 14ms/step - loss: 0.5817 - accuracy: 0.8309 - val_loss: 0.5853 - val_accuracy: 0.8533\n",
            "Epoch 69/70\n",
            "1125/1125 [==============================] - 15s 13ms/step - loss: 0.5773 - accuracy: 0.8321 - val_loss: 0.6548 - val_accuracy: 0.8267\n",
            "Epoch 70/70\n",
            "1125/1125 [==============================] - 15s 14ms/step - loss: 0.5730 - accuracy: 0.8329 - val_loss: 0.5938 - val_accuracy: 0.8400\n",
            "5/5 [==============================] - 0s 4ms/step - loss: 0.5938 - accuracy: 0.8400\n",
            "Test accuracy: 0.8399999737739563\n"
          ]
        }
      ],
      "source": [
        "#Biên dịch chương trình\n",
        "from keras.backend import categorical_crossentropy\n",
        "from keras import optimizers\n",
        "from keras.preprocessing.image import ImageDataGenerator\n",
        "\n",
        "# Compile model\n",
        "model.compile(optimizer='adam', loss='categorical_crossentropy', metrics=['accuracy'])\n",
        "\n",
        "# Augment data with ImageDataGenerator\n",
        "datagen = ImageDataGenerator(rotation_range=20, width_shift_range=0.2, height_shift_range=0.2, shear_range=0.2, zoom_range=0.2, horizontal_flip=True)\n",
        "datagen.fit(train_x)\n",
        "\n",
        "# Train model\n",
        "history = model.fit(datagen.flow(train_x, train_y, batch_size=32), epochs=70, validation_data=(test_x, test_y))\n",
        "\n",
        "# Evaluate model\n",
        "test_loss, test_acc = model.evaluate(test_x, test_y)\n",
        "print('Test accuracy:', test_acc)"
      ]
    },
    {
      "cell_type": "code",
      "execution_count": null,
      "metadata": {
        "colab": {
          "base_uri": "https://localhost:8080/",
          "height": 504
        },
        "id": "VuJmQMNz6rnL",
        "outputId": "86d2b38d-3d55-4f82-c7c6-510e3ce9bea1"
      },
      "outputs": [
        {
          "output_type": "stream",
          "name": "stdout",
          "text": [
            "Test loss: 0.5937511920928955\n",
            "Test accunacy 0.8399999737739563\n"
          ]
        },
        {
          "output_type": "execute_result",
          "data": {
            "text/plain": [
              "Text(0.5, 1.0, 'Training & Testing Accuracy')"
            ]
          },
          "metadata": {},
          "execution_count": 15
        },
        {
          "output_type": "display_data",
          "data": {
            "text/plain": [
              "<Figure size 640x480 with 1 Axes>"
            ],
            "image/png": "[encoded data removed]"
          },
          "metadata": {}
        }
      ],
      "source": [
        "import matplotlib.pyplot as plt\n",
        "\n",
        "eval = model.evaluate(test_x, test_y, verbose=0)\n",
        "print('Test loss:', eval[0])\n",
        "print('Test accunacy', eval[1])\n",
        "\n",
        "accuracy = history.history['accuracy']\n",
        "loss = history.history['loss']\n",
        "epochs = range(len(accuracy))\n",
        "plt.plot(epochs, accuracy,'bo', label = 'Traning Accuracy')\n",
        "plt.plot(epochs, loss, 'b', label= 'Test Accuracy')\n",
        "plt.title('Training & Testing Accuracy')"
      ]
    },
    {
      "cell_type": "code",
      "execution_count": null,
      "metadata": {
        "id": "09UhhMr76vbH"
      },
      "outputs": [],
      "source": [
        "model.save('/content/drive/MyDrive/Result_AI/character_model2.h5')"
      ]
    },
    {
      "cell_type": "code",
      "execution_count": null,
      "metadata": {
        "colab": {
          "base_uri": "https://localhost:8080/",
          "height": 1000
        },
        "id": "0a0yLDKK6xNQ",
        "outputId": "e8bee2be-884d-4ede-8f0c-157523559d51"
      },
      "outputs": [
        {
          "output_type": "stream",
          "name": "stdout",
          "text": [
            "1/1 [==============================] - 0s 18ms/step\n",
            "N\n"
          ]
        },
        {
          "output_type": "display_data",
          "data": {
            "text/plain": [
              "<Figure size 640x480 with 1 Axes>"
            ],
            "image/png": "[encoded data removed]"
          },
          "metadata": {}
        },
        {
          "output_type": "stream",
          "name": "stdout",
          "text": [
            "1/1 [==============================] - 0s 19ms/step\n",
            "6\n"
          ]
        },
        {
          "output_type": "display_data",
          "data": {
            "text/plain": [
              "<Figure size 640x480 with 1 Axes>"
            ],
            "image/png": "[encoded data removed]"
          },
          "metadata": {}
        },
        {
          "output_type": "stream",
          "name": "stdout",
          "text": [
            "1/1 [==============================] - 0s 19ms/step\n",
            "S\n"
          ]
        },
        {
          "output_type": "display_data",
          "data": {
            "text/plain": [
              "<Figure size 640x480 with 1 Axes>"
            ],
            "image/png": "[encoded data removed]"
          },
          "metadata": {}
        }
      ],
      "source": [
        "#Testing\n",
        "from os import listdir\n",
        "from keras.utils import load_img\n",
        "from keras.utils.image_utils import img_to_array\n",
        "\n",
        "folder = '/content/drive/MyDrive/Testing_AI'\n",
        "for file in listdir(folder):\n",
        "  photo = load_img(folder + '/' +  file)\n",
        "  plt.imshow(photo)\n",
        "  photo = load_img(folder + '/' +  file, target_size = (28,28))\n",
        "  photo=img_to_array(photo)\n",
        "  photo = resize(photo, (28, 28, 1))\n",
        "  photo=photo.astype('float32')\n",
        "  photo=photo/255\n",
        "  photo=np.expand_dims(photo,axis=0)\n",
        "  result=(model.predict(photo).argmax())\n",
        "  \n",
        "  class_name=['0','1','2','3','4','5','6','7','8','9','A','B','C','D','E','F','G','H','I','J','K','L','M','N','O','P','Q','R','S','T','U','V','W','X','Y','Z']\n",
        "  print(class_name[result])\n",
        "  plt.show()"
      ]
    }
  ],
  "metadata": {
    "accelerator": "GPU",
    "colab": {
      "provenance": [],
      "gpuType": "T4",
      "include_colab_link": true
    },
    "gpuClass": "standard",
    "kernelspec": {
      "display_name": "Python 3",
      "name": "python3"
    },
    "language_info": {
      "name": "python"
    }
  },
  "nbformat": 4,
  "nbformat_minor": 0
}