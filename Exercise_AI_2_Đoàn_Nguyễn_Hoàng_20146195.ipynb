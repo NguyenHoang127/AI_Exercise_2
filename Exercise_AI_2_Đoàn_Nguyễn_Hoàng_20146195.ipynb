{
  "nbformat": 4,
  "nbformat_minor": 0,
  "metadata": {
    "colab": {
      "provenance": [],
      "authorship_tag": "ABX9TyNvG/hwr/ctI5+SaL1sM4CK",
      "include_colab_link": true
    },
    "kernelspec": {
      "name": "python3",
      "display_name": "Python 3"
    },
    "language_info": {
      "name": "python"
    }
  },
  "cells": [
    {
      "cell_type": "markdown",
      "metadata": {
        "id": "view-in-github",
        "colab_type": "text"
      },
      "source": [
        "<a href=\"https://colab.research.google.com/github/NguyenHoang127/AI_Exercise_2/blob/main/Exercise_AI_2_%C4%90o%C3%A0n_Nguy%E1%BB%85n_Ho%C3%A0ng_20146195.ipynb\" target=\"_parent\"><img src=\"https://colab.research.google.com/assets/colab-badge.svg\" alt=\"Open In Colab\"/></a>"
      ]
    },
    {
      "cell_type": "code",
      "execution_count": null,
      "metadata": {
        "colab": {
          "base_uri": "https://localhost:8080/"
        },
        "id": "O7qP_N5xshYx",
        "outputId": "8745cb48-acc0-47df-ebb8-9822cb23e239"
      },
      "outputs": [
        {
          "output_type": "stream",
          "name": "stdout",
          "text": [
            "Mounted at /content/gdrive\n"
          ]
        }
      ],
      "source": [
        "from google.colab import drive \n",
        "drive.mount(\"/content/gdrive\", force_remount=True)"
      ]
    },
    {
      "cell_type": "code",
      "source": [
        "#Import Cơ Sở Dữ Liệu Cần Để Lọc và các Thư Viện Cần Thiết \n",
        "import pandas as pd\n",
        "import numpy as np\n",
        "\n",
        "url = \"http://winterolympicsmedals.com/medals.csv\"\n",
        "data = pd.read_csv(url)\n",
        "\n",
        "\n",
        "#Tạo lập 1 hàm khi nhập tên viết tắt của đất nước và khoảng thời gian truy xuất\n",
        "# Ta có thể trả về kết quả số huy chương các loại mà nước đó có và cụ thể từng môn thi đấu có số huy chương như thế nào\n",
        "\n",
        "def Choose_Nation(nation,year_start,year_end):\n",
        "  # Điểm qua số lần quốc đó tham dự từ 1924 đến nay\n",
        "  country = data.loc[data.NOC == nation]\n",
        "  attend = country['Year'].unique ()\n",
        "  number_attend = attend.shape [0]\n",
        "\n",
        "  print(\"Các năm {} tham gia Olympics từ 1924 đến nay: \".format(nation)+ str(attend))\n",
        "  print(\"Số năm {} tham gia Olympics từ 1924 đến nay: {} lần\\n\".format(nation,str(number_attend)))\n",
        "\n",
        "  # Lọc dữ liệu dựa trên cơ sở các thông tin nhập vào\n",
        "  info = data.loc[(data.Year >= year_start) & (data.Year <= year_end) & (data.NOC == nation)]\n",
        "  #print(info)\n",
        "  # Đếm số huy chương từng loại mà nước đó giành được trong khoảng thời gian đó\n",
        "  # Tổng số huy chương mà nước đó giành được trong khoảng thời gian đó\n",
        "  medal = info['Medal'].count()\n",
        "  print(\"Tổng số huy chương mà nước {} giành được trong {} năm là: \".format(nation,str(year_end - year_start))+str(medal))\n",
        "  # Huy chương vàng\n",
        "  gold = (info.loc[(info['Medal'] == \"Gold\")]).count()\n",
        "  print(\"Tổng số huy chương Gold mà nước {} giành được trong {} năm là: \".format(nation,str(year_end - year_start))+str(gold[7]))\n",
        "  # Huy chương bạc\n",
        "  silver = (info.loc[(info['Medal'] == \"Silver\")]).count()\n",
        "  print(\"Tổng số huy chương Silver mà nước {} giành được trong {} năm là: \".format(nation,str(year_end - year_start))+str(silver[7]))\n",
        "  # Huy chương đồng\n",
        "  bronze = (info.loc[(info['Medal'] == \"Bronze\")]).count()\n",
        "  print(\"Tổng số huy chương Bronze mà nước {} giành được trong {} năm là: \".format(nation,str(year_end - year_start))+str(bronze[7])+\"\\n2\")\n",
        "\n",
        "  # Số lượng huy chương trong từ bộ môn cụ thể\n",
        "  sport = info['Sport'].unique()\n",
        "  print(\"Tên các bộ môn mà nước {} đã tham  {}\\n\".format(nation,str(sport)))\n",
        "  for i in range (0,len(sport),1):\n",
        "    Vang = (info.loc[(info['Medal'] == \"Gold\") & (info['Sport'] == sport[i])]).count()\n",
        "    Bac = (info.loc[(info['Medal'] == \"Silver\") & (info['Sport'] == sport[i])]).count()\n",
        "    Dong = (info.loc[(info['Medal'] == \"Bronze\") & (info['Sport'] == sport[i])]).count()\n",
        "    \n",
        "    print(\"Bộ môn {} nước {} giành được {} huy chương vàng\".format(sport[i],nation,Vang[0]))\n",
        "    print(\"Bộ môn {} nước {} giành được {} huy chương bạc\".format(sport[i],nation,Bac[0]))\n",
        "    print(\"Bộ môn {} nước {} giành được {} huy chương đồng\\n\".format(sport[i],nation,Dong[0]))\n",
        "\n",
        "#Chạy chương trình\n",
        "nation = input(\"Choose nations: \")\n",
        "year_start = int(input(\"Choose the start year: \"))\n",
        "year_end   = int(input(\"Choose the end year: \"))\n",
        "\n",
        "Choose_Nation(nation,year_start,year_end)\n",
        "\n"
      ],
      "metadata": {
        "colab": {
          "base_uri": "https://localhost:8080/"
        },
        "id": "5G2Nrv2QtIgh",
        "outputId": "0cfd4af2-aae8-40bf-d3b1-3ec4c1c93c0f"
      },
      "execution_count": null,
      "outputs": [
        {
          "output_type": "stream",
          "name": "stdout",
          "text": [
            "Choose nations: USA\n",
            "Choose the start year: 2002\n",
            "Choose the end year: 2006\n",
            "Các năm USA tham gia Olympics từ 1924 đến nay: [1924 1928 1932 1936 1948 1952 1956 1960 1964 1968 1972 1976 1980 1984\n",
            " 1988 1992 1994 1998 2002 2006]\n",
            "Số năm USA tham gia Olympics từ 1924 đến nay: 20 lần\n",
            "\n",
            "Tổng số huy chương mà nước USA giành được trong 4 năm là: 59\n",
            "Tổng số huy chương Gold mà nước USA giành được trong 4 năm là: 19\n",
            "Tổng số huy chương Silver mà nước USA giành được trong 4 năm là: 22\n",
            "Tổng số huy chương Bronze mà nước USA giành được trong 4 năm là: 18\n",
            "\n",
            "Tên các bộ môn mà nước USA đã tham  ['Bobsleigh' 'Ice Hockey' 'Luge' 'Skating' 'Skiing' 'Curling']\n",
            "\n",
            "Bộ môn Bobsleigh nước USA giành được 3 huy chương vàng\n",
            "Bộ môn Bobsleigh nước USA giành được 3 huy chương bạc\n",
            "Bộ môn Bobsleigh nước USA giành được 1 huy chương đồng\n",
            "\n",
            "Bộ môn Ice Hockey nước USA giành được 0 huy chương vàng\n",
            "Bộ môn Ice Hockey nước USA giành được 2 huy chương bạc\n",
            "Bộ môn Ice Hockey nước USA giành được 1 huy chương đồng\n",
            "\n",
            "Bộ môn Luge nước USA giành được 0 huy chương vàng\n",
            "Bộ môn Luge nước USA giành được 1 huy chương bạc\n",
            "Bộ môn Luge nước USA giành được 1 huy chương đồng\n",
            "\n",
            "Bộ môn Skating nước USA giành được 9 huy chương vàng\n",
            "Bộ môn Skating nước USA giành được 7 huy chương bạc\n",
            "Bộ môn Skating nước USA giành được 10 huy chương đồng\n",
            "\n",
            "Bộ môn Skiing nước USA giành được 7 huy chương vàng\n",
            "Bộ môn Skiing nước USA giành được 9 huy chương bạc\n",
            "Bộ môn Skiing nước USA giành được 4 huy chương đồng\n",
            "\n",
            "Bộ môn Curling nước USA giành được 0 huy chương vàng\n",
            "Bộ môn Curling nước USA giành được 0 huy chương bạc\n",
            "Bộ môn Curling nước USA giành được 1 huy chương đồng\n",
            "\n"
          ]
        }
      ]
    },
    {
      "cell_type": "code",
      "source": [],
      "metadata": {
        "id": "FX8hezUqvCJ1"
      },
      "execution_count": null,
      "outputs": []
    }
  ]
}