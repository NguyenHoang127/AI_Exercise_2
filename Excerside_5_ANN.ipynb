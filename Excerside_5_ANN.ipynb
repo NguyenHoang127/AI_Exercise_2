{
  "nbformat": 4,
  "nbformat_minor": 0,
  "metadata": {
    "colab": {
      "provenance": [],
      "authorship_tag": "ABX9TyPaJo6bZFj1DVv8Cx2eF/P1",
      "include_colab_link": true
    },
    "kernelspec": {
      "name": "python3",
      "display_name": "Python 3"
    },
    "language_info": {
      "name": "python"
    }
  },
  "cells": [
    {
      "cell_type": "markdown",
      "metadata": {
        "id": "view-in-github",
        "colab_type": "text"
      },
      "source": [
        "<a href=\"https://colab.research.google.com/github/NguyenHoang127/AI_Exercise_All/blob/main/Excerside_5_ANN.ipynb\" target=\"_parent\"><img src=\"https://colab.research.google.com/assets/colab-badge.svg\" alt=\"Open In Colab\"/></a>"
      ]
    },
    {
      "cell_type": "code",
      "execution_count": 1,
      "metadata": {
        "colab": {
          "base_uri": "https://localhost:8080/"
        },
        "id": "C37qozjfsoo9",
        "outputId": "644d741e-cb5c-4adf-b6f5-62217ec9524a"
      },
      "outputs": [
        {
          "output_type": "stream",
          "name": "stdout",
          "text": [
            "[1 0 0 0]\n"
          ]
        },
        {
          "output_type": "execute_result",
          "data": {
            "text/plain": [
              "1.0"
            ]
          },
          "metadata": {},
          "execution_count": 1
        }
      ],
      "source": [
        "from sklearn.linear_model import Perceptron\n",
        "\n",
        "x = [[0,0],[0,1],[1,0],[1,1]]\n",
        "t = [0,1,1,1]\n",
        "\n",
        "model = Perceptron()\n",
        "model.fit(x,t)\n",
        "model.score(x,t)\n",
        "\n",
        "x1 = [[0.5,0.5],[0.5,0],[0,0.5],[0.4,0]]\n",
        "y1 = model.predict(x1)\n",
        "print(y1)\n",
        "model.score(x1,y1)"
      ]
    },
    {
      "cell_type": "code",
      "source": [
        "from sklearn.linear_model import Perceptron\n",
        "\n",
        "x = [[-0.5,-0.5],[0.5,1],[-0.5,0],[1,0]]\n",
        "t = [1,1,0,0]\n",
        "\n",
        "model = Perceptron()\n",
        "model.fit(x,t)\n",
        "model.score(x,t)\n",
        "\n",
        "\n",
        "x1 = [[0.5,0.5],[0.5,0],[0,0.5],[0.4,0]]\n",
        "y1 = model.predict(x1)\n",
        "print(y1)"
      ],
      "metadata": {
        "colab": {
          "base_uri": "https://localhost:8080/"
        },
        "id": "FxvdZfBay1zf",
        "outputId": "86011a87-47b0-45ad-f1a2-a76931fabc02"
      },
      "execution_count": 2,
      "outputs": [
        {
          "output_type": "stream",
          "name": "stdout",
          "text": [
            "[1 0 1 0]\n"
          ]
        }
      ]
    },
    {
      "cell_type": "code",
      "source": [
        "from posixpath import split\n",
        "from sklearn.linear_model import Perceptron\n",
        "from sklearn import datasets\n",
        "from sklearn.model_selection import train_test_split\n",
        "from sklearn.metrics import accuracy_score\n",
        "from sklearn.preprocessing import StandardScaler\n",
        "\n",
        "iris = datasets.load_iris()\n",
        "X = iris.data\n",
        "y = iris.target\n",
        "print(X[:5])\n",
        "print(y[:5])\n",
        "\n",
        "X_train,X_test,y_train,y_test = train_test_split(X,y,test_size=0.3)\n",
        "sc=StandardScaler()\n",
        "sc.fit(X_train)\n",
        "X_train_std = sc.transform(X_train)\n",
        "X_test_std = sc.transform(X_test)\n",
        "\n",
        "print(X_train_std[:5],X_train[:5])\n",
        "print(y[:5])\n",
        "\n",
        "model = Perceptron(max_iter=50,eta0=0.1,random_state=0) # max_iter số lần học,eta0 tốc độ học 0<x<1\n",
        "model.fit(X_train_std,y_train)\n",
        "y_pred = model.predict(X_test_std)\n",
        "print(y_pred)\n",
        "print(y_test)\n",
        "print('Độ chính xác mô hình :',accuracy_score(y_test,y_pred))\n",
        "\n",
        "\n"
      ],
      "metadata": {
        "colab": {
          "base_uri": "https://localhost:8080/"
        },
        "id": "A7jqnxT22Qyi",
        "outputId": "c1ffbecc-1f0e-480b-9511-dee1a5c120e1"
      },
      "execution_count": 3,
      "outputs": [
        {
          "output_type": "stream",
          "name": "stdout",
          "text": [
            "[[5.1 3.5 1.4 0.2]\n",
            " [4.9 3.  1.4 0.2]\n",
            " [4.7 3.2 1.3 0.2]\n",
            " [4.6 3.1 1.5 0.2]\n",
            " [5.  3.6 1.4 0.2]]\n",
            "[0 0 0 0 0]\n",
            "[[ 0.65211633 -0.50496178  1.02883822  1.15912995]\n",
            " [ 0.65211633 -0.50496178  1.02883822  1.29185475]\n",
            " [-1.02671205 -1.68320594 -0.30269678 -0.30084289]\n",
            " [ 2.09111209 -0.03366412  1.60776648  1.15912995]\n",
            " [ 0.29236739 -0.97625944  1.02883822  0.23005632]] [[6.4 2.8 5.6 2.1]\n",
            " [6.4 2.8 5.6 2.2]\n",
            " [5.  2.3 3.3 1. ]\n",
            " [7.6 3.  6.6 2.1]\n",
            " [6.1 2.6 5.6 1.4]]\n",
            "[0 0 0 0 0]\n",
            "[0 2 1 0 0 2 2 1 0 0 2 0 0 1 1 2 1 0 2 0 2 1 2 1 0 0 2 1 0 0 2 2 1 0 1 2 0\n",
            " 0 0 0 0 2 0 2 2]\n",
            "[0 2 2 0 1 2 2 1 0 0 2 0 0 1 1 2 1 0 2 1 1 1 2 2 0 0 2 1 0 0 2 2 2 0 1 2 0\n",
            " 0 0 0 0 2 0 1 2]\n",
            "Độ chính xác mô hình : 0.8444444444444444\n"
          ]
        }
      ]
    },
    {
      "cell_type": "code",
      "source": [
        "data = pd.read_csv('data_crab.csv')\n",
        "X = data.replace(['B', 'O', 'M', 'F'], [2, 3, 1, 0])\n",
        "y = data.sex\n",
        "y.replace(['M', 'F'], [1, 0])\n",
        "\n",
        "X_train, X_test, y_train, y_test = train_test_split(X, y, test_size = 0.3)\n",
        "sc = StandardScaler()\n",
        "sc.fit(X_train)\n",
        "X_train_std = sc.transform(X_train)\n",
        "X_test_std = sc.transform(X_test)\n",
        "\n",
        "model = Perceptron(max_iter = 100, eta0 = 0.1, random_state = 0)   #(so lan hoc, toc do hoc, trang thai lay gia tri)\n",
        "model.fit(X_train_std, y_train)\n",
        "y_pred = model.predict(X_test_std)\n",
        "\n",
        "print('Do chinh xac cua mo hinh', accuracy_score(y_test, y_pred))\n"
      ],
      "metadata": {
        "colab": {
          "base_uri": "https://localhost:8080/"
        },
        "id": "x9xVC9X4_Y7O",
        "outputId": "fdecba41-3c80-4aa2-b29a-807eb23028bd"
      },
      "execution_count": 13,
      "outputs": [
        {
          "output_type": "stream",
          "name": "stdout",
          "text": [
            "Do chinh xac cua mo hinh 1.0\n"
          ]
        }
      ]
    }
  ]
}